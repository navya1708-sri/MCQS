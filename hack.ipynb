{
 "cells": [
  {
   "cell_type": "code",
   "execution_count": 4,
   "id": "4aa51f5b-8f57-42a3-ae39-2da7a2b1d71c",
   "metadata": {},
   "outputs": [
    {
     "name": "stdout",
     "output_type": "stream",
     "text": [
      "(51717, 10)\n"
     ]
    }
   ],
   "source": [
    "import pandas as pd\n",
    "df = pd.read_csv(r\"C:\\Users\\pc\\Downloads\\zomato_data.csv\")\n",
    "print(df.shape)\n"
   ]
  },
  {
   "cell_type": "code",
   "execution_count": 5,
   "id": "8b5b181b-7cec-47c4-bd7d-55ca23be96de",
   "metadata": {},
   "outputs": [
    {
     "name": "stdout",
     "output_type": "stream",
     "text": [
      "21085\n"
     ]
    }
   ],
   "source": [
    "north_indian_count = df['cuisines'].str.contains('North Indian', case=False, na=False).sum()\n",
    "print(north_indian_count)\n"
   ]
  },
  {
   "cell_type": "code",
   "execution_count": 6,
   "id": "c43e227b-987a-496e-a12b-1ba26520b89b",
   "metadata": {},
   "outputs": [
    {
     "name": "stdout",
     "output_type": "stream",
     "text": [
      "[('North Indian', 21085)]\n"
     ]
    }
   ],
   "source": [
    "from collections import Counter\n",
    "cuisine_list = df['cuisines'].dropna().str.split(', ')\n",
    "cuisine_counts = Counter([cuisine for sublist in cuisine_list for cuisine in sublist])\n",
    "most_common_cuisine = cuisine_counts.most_common(1)\n",
    "print(most_common_cuisine)\n"
   ]
  },
  {
   "cell_type": "code",
   "execution_count": 14,
   "id": "afc3d848-d07b-4b3e-a133-1bfc01006ff2",
   "metadata": {},
   "outputs": [
    {
     "ename": "KeyError",
     "evalue": "'Column not found: approx_cost(for two people)'",
     "output_type": "error",
     "traceback": [
      "\u001b[1;31m---------------------------------------------------------------------------\u001b[0m",
      "\u001b[1;31mKeyError\u001b[0m                                  Traceback (most recent call last)",
      "Cell \u001b[1;32mIn[14], line 1\u001b[0m\n\u001b[1;32m----> 1\u001b[0m avg_cost \u001b[38;5;241m=\u001b[39m df\u001b[38;5;241m.\u001b[39mgroupby(\u001b[38;5;124m'\u001b[39m\u001b[38;5;124mlisted_intype\u001b[39m\u001b[38;5;124m'\u001b[39m)[\u001b[38;5;124m'\u001b[39m\u001b[38;5;124mapprox_cost(for two people)\u001b[39m\u001b[38;5;124m'\u001b[39m]\u001b[38;5;241m.\u001b[39mmean()\u001b[38;5;241m.\u001b[39msort_values(ascending\u001b[38;5;241m=\u001b[39m\u001b[38;5;28;01mFalse\u001b[39;00m)\n\u001b[0;32m      2\u001b[0m \u001b[38;5;28mprint\u001b[39m(avg_cost\u001b[38;5;241m.\u001b[39mhead(\u001b[38;5;241m1\u001b[39m))\n",
      "File \u001b[1;32m~\\.vscode\\anaconda\\Lib\\site-packages\\pandas\\core\\groupby\\generic.py:1951\u001b[0m, in \u001b[0;36mDataFrameGroupBy.__getitem__\u001b[1;34m(self, key)\u001b[0m\n\u001b[0;32m   1944\u001b[0m \u001b[38;5;28;01mif\u001b[39;00m \u001b[38;5;28misinstance\u001b[39m(key, \u001b[38;5;28mtuple\u001b[39m) \u001b[38;5;129;01mand\u001b[39;00m \u001b[38;5;28mlen\u001b[39m(key) \u001b[38;5;241m>\u001b[39m \u001b[38;5;241m1\u001b[39m:\n\u001b[0;32m   1945\u001b[0m     \u001b[38;5;66;03m# if len == 1, then it becomes a SeriesGroupBy and this is actually\u001b[39;00m\n\u001b[0;32m   1946\u001b[0m     \u001b[38;5;66;03m# valid syntax, so don't raise\u001b[39;00m\n\u001b[0;32m   1947\u001b[0m     \u001b[38;5;28;01mraise\u001b[39;00m \u001b[38;5;167;01mValueError\u001b[39;00m(\n\u001b[0;32m   1948\u001b[0m         \u001b[38;5;124m\"\u001b[39m\u001b[38;5;124mCannot subset columns with a tuple with more than one element. \u001b[39m\u001b[38;5;124m\"\u001b[39m\n\u001b[0;32m   1949\u001b[0m         \u001b[38;5;124m\"\u001b[39m\u001b[38;5;124mUse a list instead.\u001b[39m\u001b[38;5;124m\"\u001b[39m\n\u001b[0;32m   1950\u001b[0m     )\n\u001b[1;32m-> 1951\u001b[0m \u001b[38;5;28;01mreturn\u001b[39;00m \u001b[38;5;28msuper\u001b[39m()\u001b[38;5;241m.\u001b[39m\u001b[38;5;21m__getitem__\u001b[39m(key)\n",
      "File \u001b[1;32m~\\.vscode\\anaconda\\Lib\\site-packages\\pandas\\core\\base.py:244\u001b[0m, in \u001b[0;36mSelectionMixin.__getitem__\u001b[1;34m(self, key)\u001b[0m\n\u001b[0;32m    242\u001b[0m \u001b[38;5;28;01melse\u001b[39;00m:\n\u001b[0;32m    243\u001b[0m     \u001b[38;5;28;01mif\u001b[39;00m key \u001b[38;5;129;01mnot\u001b[39;00m \u001b[38;5;129;01min\u001b[39;00m \u001b[38;5;28mself\u001b[39m\u001b[38;5;241m.\u001b[39mobj:\n\u001b[1;32m--> 244\u001b[0m         \u001b[38;5;28;01mraise\u001b[39;00m \u001b[38;5;167;01mKeyError\u001b[39;00m(\u001b[38;5;124mf\u001b[39m\u001b[38;5;124m\"\u001b[39m\u001b[38;5;124mColumn not found: \u001b[39m\u001b[38;5;132;01m{\u001b[39;00mkey\u001b[38;5;132;01m}\u001b[39;00m\u001b[38;5;124m\"\u001b[39m)\n\u001b[0;32m    245\u001b[0m     ndim \u001b[38;5;241m=\u001b[39m \u001b[38;5;28mself\u001b[39m\u001b[38;5;241m.\u001b[39mobj[key]\u001b[38;5;241m.\u001b[39mndim\n\u001b[0;32m    246\u001b[0m     \u001b[38;5;28;01mreturn\u001b[39;00m \u001b[38;5;28mself\u001b[39m\u001b[38;5;241m.\u001b[39m_gotitem(key, ndim\u001b[38;5;241m=\u001b[39mndim)\n",
      "\u001b[1;31mKeyError\u001b[0m: 'Column not found: approx_cost(for two people)'"
     ]
    }
   ],
   "source": [
    "avg_cost = df.groupby('listed_intype')['approx_cost(for two people)'].mean().sort_values(ascending=False)\n",
    "print(avg_cost.head(1))\n"
   ]
  },
  {
   "cell_type": "code",
   "execution_count": null,
   "id": "82be25c4-aa48-4308-b653-90f35ea7ee73",
   "metadata": {},
   "outputs": [],
   "source": []
  },
  {
   "cell_type": "code",
   "execution_count": 8,
   "id": "3f04d9d6-ac66-4242-ac23-b9eef5696e37",
   "metadata": {},
   "outputs": [
    {
     "name": "stdout",
     "output_type": "stream",
     "text": [
      "Index(['online_order', 'book_table', 'rate', 'votes', 'rest_type',\n",
      "       'dish_liked', 'cuisines', 'approx_costfor_two_people', 'listed_intype',\n",
      "       'listed_incity'],\n",
      "      dtype='object')\n"
     ]
    }
   ],
   "source": [
    "print(df.columns)\n"
   ]
  },
  {
   "cell_type": "code",
   "execution_count": 9,
   "id": "3ccf3162-1f34-4a1e-b6aa-5fe3c20ae4df",
   "metadata": {},
   "outputs": [],
   "source": [
    "df.columns = df.columns.str.strip()\n"
   ]
  },
  {
   "cell_type": "code",
   "execution_count": 10,
   "id": "d51cb2bb-f20e-48df-90c9-96eed09fc377",
   "metadata": {},
   "outputs": [
    {
     "name": "stdout",
     "output_type": "stream",
     "text": [
      "  online_order book_table   rate  votes            rest_type  \\\n",
      "0          Yes        Yes  4.1/5    775        Casual Dining   \n",
      "1          Yes         No  4.1/5    787        Casual Dining   \n",
      "2          Yes         No  3.8/5    918  Cafe, Casual Dining   \n",
      "3           No         No  3.7/5     88          Quick Bites   \n",
      "4           No         No  3.8/5    166        Casual Dining   \n",
      "\n",
      "                                          dish_liked  \\\n",
      "0  Pasta, Lunch Buffet, Masala Papad, Paneer Laja...   \n",
      "1  Momos, Lunch Buffet, Chocolate Nirvana, Thai G...   \n",
      "2  Churros, Cannelloni, Minestrone Soup, Hot Choc...   \n",
      "3                                        Masala Dosa   \n",
      "4                                Panipuri, Gol Gappe   \n",
      "\n",
      "                         cuisines approx_costfor_two_people listed_intype  \\\n",
      "0  North Indian, Mughlai, Chinese                       800        Buffet   \n",
      "1     Chinese, North Indian, Thai                       800        Buffet   \n",
      "2          Cafe, Mexican, Italian                       800        Buffet   \n",
      "3      South Indian, North Indian                       300        Buffet   \n",
      "4        North Indian, Rajasthani                       600        Buffet   \n",
      "\n",
      "  listed_incity  \n",
      "0  Banashankari  \n",
      "1  Banashankari  \n",
      "2  Banashankari  \n",
      "3  Banashankari  \n",
      "4  Banashankari  \n",
      "Index(['online_order', 'book_table', 'rate', 'votes', 'rest_type',\n",
      "       'dish_liked', 'cuisines', 'approx_costfor_two_people', 'listed_intype',\n",
      "       'listed_incity'],\n",
      "      dtype='object')\n"
     ]
    }
   ],
   "source": [
    "print(df.head())  \n",
    "print(df.columns)  \n"
   ]
  },
  {
   "cell_type": "code",
   "execution_count": 11,
   "id": "10e919d9-701e-4e51-81ce-59325cca486c",
   "metadata": {},
   "outputs": [],
   "source": [
    "df.columns = df.columns.str.strip().str.lower()\n",
    "\n"
   ]
  },
  {
   "cell_type": "code",
   "execution_count": 21,
   "id": "bd0b44c7-7081-490d-8c8f-2ec35ff23d74",
   "metadata": {},
   "outputs": [
    {
     "name": "stdout",
     "output_type": "stream",
     "text": [
      "Locality with highest avg cost: Church Street\n"
     ]
    }
   ],
   "source": [
    "df['approx_costfor_two_people'] = df['approx_costfor_two_people'].astype(str).str.replace(',', '')\n",
    "df['approx_costfor_two_people'] = pd.to_numeric(df['approx_costfor_two_people'], errors='coerce')\n",
    "highest_avg_cost = df.groupby('listed_incity')['approx_costfor_two_people'].mean().idxmax()\n",
    "print(\"Q4: Locality with highest avg cost:\", highest_avg_cost)"
   ]
  },
  {
   "cell_type": "code",
   "execution_count": 17,
   "id": "02f86078-b540-49f1-8358-7ba8f223646f",
   "metadata": {},
   "outputs": [
    {
     "name": "stdout",
     "output_type": "stream",
     "text": [
      "['4.1/5' '3.8/5' '3.7/5' '3.6/5' '4.6/5' '4.0/5' '4.2/5' '3.9/5' '3.1/5'\n",
      " '3.0/5' '3.2/5' '3.3/5' '2.8/5' '4.4/5' '4.3/5' 'NEW' '2.9/5' '3.5/5' nan\n",
      " '2.6/5' '3.8 /5' '3.4/5' '4.5/5' '2.5/5' '2.7/5' '4.7/5' '2.4/5' '2.2/5'\n",
      " '2.3/5' '3.4 /5' '-' '3.6 /5' '4.8/5' '3.9 /5' '4.2 /5' '4.0 /5' '4.1 /5'\n",
      " '3.7 /5' '3.1 /5' '2.9 /5' '3.3 /5' '2.8 /5' '3.5 /5' '2.7 /5' '2.5 /5'\n",
      " '3.2 /5' '2.6 /5' '4.5 /5' '4.3 /5' '4.4 /5' '4.9/5' '2.1/5' '2.0/5'\n",
      " '1.8/5' '4.6 /5' '4.9 /5' '3.0 /5' '4.8 /5' '2.3 /5' '4.7 /5' '2.4 /5'\n",
      " '2.1 /5' '2.2 /5' '2.0 /5' '1.8 /5']\n"
     ]
    }
   ],
   "source": [
    "print(df['rate'].unique())\n"
   ]
  },
  {
   "cell_type": "code",
   "execution_count": 20,
   "id": "54c4f164-4ff7-44bf-bd67-d21595c9e132",
   "metadata": {},
   "outputs": [
    {
     "name": "stdout",
     "output_type": "stream",
     "text": [
      "rest_type\n",
      "Bakery    4.8\n",
      "Name: rate, dtype: float64\n"
     ]
    }
   ],
   "source": [
    "df['rate'] = df['rate'].astype(str)\n",
    "df['rate'] = df['rate'].str.extract(r'(\\d+\\.\\d+)').astype(float)\n",
    "high_votes = df[df['votes'] > 1000]\n",
    "top_rated = high_votes.groupby('rest_type')['rate'].mean().sort_values(ascending=False)\n",
    "print(top_rated.head(1))\n"
   ]
  },
  {
   "cell_type": "code",
   "execution_count": 25,
   "id": "42a5f07c-8b05-49a6-9b8b-5d65183ec0b2",
   "metadata": {},
   "outputs": [
    {
     "name": "stdout",
     "output_type": "stream",
     "text": [
      "  Minimum Cost\n",
      "0          ₹40\n"
     ]
    }
   ],
   "source": [
    "import pandas as pd\n",
    "min_cost = df['approx_costfor_two_people'].min()\n",
    "result = pd.DataFrame({\"Minimum Cost\": [f\"₹{int(min_cost)}\"]})\n",
    "print(result)\n"
   ]
  },
  {
   "cell_type": "code",
   "execution_count": 28,
   "id": "75837ba6-3ac9-4ce8-aa20-a86bbc864118",
   "metadata": {},
   "outputs": [
    {
     "name": "stdout",
     "output_type": "stream",
     "text": [
      "                            Metric  Value\n",
      "0              Total Online Orders  30444\n",
      "1  Online Orders from Banashankari    546\n",
      "2      Percentage of Online Orders    44%\n"
     ]
    }
   ],
   "source": [
    "import pandas as pd\n",
    "result = pd.DataFrame({\n",
    "    \"Metric\": [\"Total Online Orders\", \"Online Orders from Banashankari\", \"Percentage of Online Orders\"],\n",
    "    \"Value\": [total_online, banashankari_online, f\"44%\"]\n",
    "})\n",
    "print(result)\n"
   ]
  },
  {
   "cell_type": "code",
   "execution_count": 29,
   "id": "66342ade-f32e-47a5-ac80-9d4ac7544fc0",
   "metadata": {},
   "outputs": [
    {
     "name": "stdout",
     "output_type": "stream",
     "text": [
      "Locality with most such restaurants: Brookefield\n"
     ]
    }
   ],
   "source": [
    "filtered_df = df[(df['votes'] > 500) & (df['rate'] < 3.0)]\n",
    "top_locality = filtered_df['listed_incity'].value_counts().idxmax()\n",
    "print(\"Locality with most such restaurants:\", top_locality)"
   ]
  },
  {
   "cell_type": "code",
   "execution_count": 31,
   "id": "186bdab2-e705-4939-8d80-3602fb95d845",
   "metadata": {},
   "outputs": [
    {
     "name": "stdout",
     "output_type": "stream",
     "text": [
      "Q9: Locality with most diverse restaurant types: BTM\n"
     ]
    }
   ],
   "source": [
    "rest_type_diversity = df.groupby('listed_incity')['rest_type'].nunique()\n",
    "most_diverse = rest_type_diversity.idxmax()\n",
    "print(\"Q9: Locality with most diverse restaurant types:\", most_diverse)"
   ]
  },
  {
   "cell_type": "code",
   "execution_count": 32,
   "id": "ea020168-2af5-4c4a-b5fd-eb5a03efad6f",
   "metadata": {},
   "outputs": [
    {
     "name": "stdout",
     "output_type": "stream",
     "text": [
      "Q10: Average cost difference (Buffet vs Delivery): ₹ 842\n"
     ]
    }
   ],
   "source": [
    "buffet_avg = df[df['listed_intype'] == 'Buffet']['approx_costfor_two_people'].mean()\n",
    "delivery_avg = df[df['listed_intype'] == 'Delivery']['approx_costfor_two_people'].mean()\n",
    "cost_diff = abs(buffet_avg - delivery_avg)\n",
    "print(\"Q10: Average cost difference (Buffet vs Delivery): ₹\", int(cost_diff))"
   ]
  },
  {
   "cell_type": "code",
   "execution_count": 34,
   "id": "42a9e14c-8e86-48fa-8d08-267149038aea",
   "metadata": {},
   "outputs": [
    {
     "name": "stdout",
     "output_type": "stream",
     "text": [
      "Q11: Max votes (online order): 16832\n"
     ]
    }
   ],
   "source": [
    "max_votes_online = df[df['online_order'] == 'Yes']['votes'].max()\n",
    "print(\"Q11: Max votes (online order):\", max_votes_online)"
   ]
  },
  {
   "cell_type": "code",
   "execution_count": 35,
   "id": "907bde95-d922-4df7-9e49-57f3baf4a1bb",
   "metadata": {},
   "outputs": [
    {
     "name": "stdout",
     "output_type": "stream",
     "text": [
      "Q12: Avg rating (North Indian + Chinese): 3.57\n"
     ]
    }
   ],
   "source": [
    "both_cuisines = df[\n",
    "    df['cuisines'].str.contains('North Indian', na=False) & \n",
    "    df['cuisines'].str.contains('Chinese', na=False)\n",
    "]\n",
    "avg_rate_both = round(both_cuisines['rate'].mean(), 2)\n",
    "print(\"Q12: Avg rating (North Indian + Chinese):\", avg_rate_both)"
   ]
  },
  {
   "cell_type": "code",
   "execution_count": 38,
   "id": "82618184-ee88-438e-9a7c-d14aed27b995",
   "metadata": {},
   "outputs": [],
   "source": [
    "df['approx_costfor_two_people'] = df['approx_costfor_two_people'].replace({',': '', '₹': ''}, regex=True).astype(float)\n"
   ]
  },
  {
   "cell_type": "code",
   "execution_count": 39,
   "id": "39346c0a-9523-49f1-8bbb-e809a090f642",
   "metadata": {},
   "outputs": [],
   "source": [
    "df['revenue'] = df['approx_costfor_two_people'] * df['votes']\n"
   ]
  },
  {
   "cell_type": "code",
   "execution_count": 40,
   "id": "a87ef09c-0cd6-4eef-bfaa-f6eb3f066a6e",
   "metadata": {},
   "outputs": [
    {
     "name": "stdout",
     "output_type": "stream",
     "text": [
      "listed_incity\n",
      "Koramangala 7th Block    1.001584e+09\n",
      "Name: revenue, dtype: float64\n"
     ]
    }
   ],
   "source": [
    "revenue_by_location = df.groupby('listed_incity')['revenue'].sum().sort_values(ascending=False)\n",
    "print(revenue_by_location.head(1))\n"
   ]
  },
  {
   "cell_type": "code",
   "execution_count": 42,
   "id": "0a00b37c-ba21-4933-9caf-401239ca496e",
   "metadata": {},
   "outputs": [
    {
     "name": "stdout",
     "output_type": "stream",
     "text": [
      "rest_type\n",
      "Dessert Parlor, Kiosk    3.0\n",
      "Name: rate, dtype: float64\n"
     ]
    }
   ],
   "source": [
    "avg_rating_by_type = df.groupby('rest_type')['rate'].mean().sort_values()\n",
    "print(avg_rating_by_type.head(1))\n"
   ]
  },
  {
   "cell_type": "code",
   "execution_count": 50,
   "id": "aa35e065-3fab-40da-8fbf-a3b12c836d51",
   "metadata": {},
   "outputs": [
    {
     "name": "stdout",
     "output_type": "stream",
     "text": [
      "15: Top location for investment: Koramangala 7th Block\n"
     ]
    }
   ],
   "source": [
    "import pandas as pd\n",
    "\n",
    "# Load the dataset\n",
    "df = pd.read_csv(r\"C:\\Users\\pc\\Downloads\\zomato_data.csv\")\n",
    "\n",
    "# Clean the 'rate' column to extract numeric values\n",
    "df['rate'] = df['rate'].astype(str).str.extract(r'(\\d+\\.\\d+)')\n",
    "df['rate'] = pd.to_numeric(df['rate'], errors='coerce')\n",
    "\n",
    "# Clean the 'approx_costfor_two_people' column to remove commas and convert to numeric\n",
    "df['approx_costfor_two_people'] = df['approx_costfor_two_people'].astype(str).str.replace(',', '')\n",
    "df['approx_costfor_two_people'] = pd.to_numeric(df['approx_costfor_two_people'], errors='coerce')\n",
    "\n",
    "# Filter restaurants based on the given criteria\n",
    "filtered_df = df[\n",
    "    (df['rate'] > 4.2) &\n",
    "    (df['votes'] > 500) &\n",
    "    (df['online_order'].str.lower() == 'yes')\n",
    "]\n",
    "\n",
    "# Count the number of such restaurants per location\n",
    "location_counts = filtered_df['listed_incity'].value_counts()\n",
    "\n",
    "# Identify the top location\n",
    "top_location = location_counts.idxmax()\n",
    "\n",
    "print(\"15: Top location for investment:\", top_location)\n",
    "\n"
   ]
  },
  {
   "cell_type": "code",
   "execution_count": null,
   "id": "dc16c19b-eede-4af5-be79-d7d6b26fb8ef",
   "metadata": {},
   "outputs": [],
   "source": []
  }
 ],
 "metadata": {
  "kernelspec": {
   "display_name": "Python 3 (ipykernel)",
   "language": "python",
   "name": "python3"
  },
  "language_info": {
   "codemirror_mode": {
    "name": "ipython",
    "version": 3
   },
   "file_extension": ".py",
   "mimetype": "text/x-python",
   "name": "python",
   "nbconvert_exporter": "python",
   "pygments_lexer": "ipython3",
   "version": "3.12.7"
  }
 },
 "nbformat": 4,
 "nbformat_minor": 5
}
