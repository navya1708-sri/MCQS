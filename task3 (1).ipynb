{
 "cells": [
  {
   "cell_type": "code",
   "execution_count": 2,
   "id": "f44eefb5-169d-4034-aa1b-ec72e55879f6",
   "metadata": {},
   "outputs": [
    {
     "name": "stdout",
     "output_type": "stream",
     "text": [
      "Requirement already satisfied: folium in c:\\users\\pc\\.vscode\\anaconda\\lib\\site-packages (0.19.5)\n",
      "Requirement already satisfied: branca>=0.6.0 in c:\\users\\pc\\.vscode\\anaconda\\lib\\site-packages (from folium) (0.8.1)\n",
      "Requirement already satisfied: jinja2>=2.9 in c:\\users\\pc\\.vscode\\anaconda\\lib\\site-packages (from folium) (3.1.4)\n",
      "Requirement already satisfied: numpy in c:\\users\\pc\\.vscode\\anaconda\\lib\\site-packages (from folium) (1.26.4)\n",
      "Requirement already satisfied: requests in c:\\users\\pc\\.vscode\\anaconda\\lib\\site-packages (from folium) (2.32.3)\n",
      "Requirement already satisfied: xyzservices in c:\\users\\pc\\.vscode\\anaconda\\lib\\site-packages (from folium) (2022.9.0)\n",
      "Requirement already satisfied: MarkupSafe>=2.0 in c:\\users\\pc\\.vscode\\anaconda\\lib\\site-packages (from jinja2>=2.9->folium) (2.1.3)\n",
      "Requirement already satisfied: charset-normalizer<4,>=2 in c:\\users\\pc\\.vscode\\anaconda\\lib\\site-packages (from requests->folium) (3.3.2)\n",
      "Requirement already satisfied: idna<4,>=2.5 in c:\\users\\pc\\.vscode\\anaconda\\lib\\site-packages (from requests->folium) (3.7)\n",
      "Requirement already satisfied: urllib3<3,>=1.21.1 in c:\\users\\pc\\.vscode\\anaconda\\lib\\site-packages (from requests->folium) (2.2.3)\n",
      "Requirement already satisfied: certifi>=2017.4.17 in c:\\users\\pc\\.vscode\\anaconda\\lib\\site-packages (from requests->folium) (2024.8.30)\n",
      "Requirement already satisfied: ipython in c:\\users\\pc\\.vscode\\anaconda\\lib\\site-packages (8.27.0)\n",
      "Requirement already satisfied: decorator in c:\\users\\pc\\.vscode\\anaconda\\lib\\site-packages (from ipython) (5.1.1)\n",
      "Requirement already satisfied: jedi>=0.16 in c:\\users\\pc\\.vscode\\anaconda\\lib\\site-packages (from ipython) (0.19.1)\n",
      "Requirement already satisfied: matplotlib-inline in c:\\users\\pc\\.vscode\\anaconda\\lib\\site-packages (from ipython) (0.1.6)\n",
      "Requirement already satisfied: prompt-toolkit<3.1.0,>=3.0.41 in c:\\users\\pc\\.vscode\\anaconda\\lib\\site-packages (from ipython) (3.0.43)\n",
      "Requirement already satisfied: pygments>=2.4.0 in c:\\users\\pc\\.vscode\\anaconda\\lib\\site-packages (from ipython) (2.15.1)\n",
      "Requirement already satisfied: stack-data in c:\\users\\pc\\.vscode\\anaconda\\lib\\site-packages (from ipython) (0.2.0)\n",
      "Requirement already satisfied: traitlets>=5.13.0 in c:\\users\\pc\\.vscode\\anaconda\\lib\\site-packages (from ipython) (5.14.3)\n",
      "Requirement already satisfied: colorama in c:\\users\\pc\\.vscode\\anaconda\\lib\\site-packages (from ipython) (0.4.6)\n",
      "Requirement already satisfied: parso<0.9.0,>=0.8.3 in c:\\users\\pc\\.vscode\\anaconda\\lib\\site-packages (from jedi>=0.16->ipython) (0.8.3)\n",
      "Requirement already satisfied: wcwidth in c:\\users\\pc\\.vscode\\anaconda\\lib\\site-packages (from prompt-toolkit<3.1.0,>=3.0.41->ipython) (0.2.5)\n",
      "Requirement already satisfied: executing in c:\\users\\pc\\.vscode\\anaconda\\lib\\site-packages (from stack-data->ipython) (0.8.3)\n",
      "Requirement already satisfied: asttokens in c:\\users\\pc\\.vscode\\anaconda\\lib\\site-packages (from stack-data->ipython) (2.0.5)\n",
      "Requirement already satisfied: pure-eval in c:\\users\\pc\\.vscode\\anaconda\\lib\\site-packages (from stack-data->ipython) (0.2.2)\n",
      "Requirement already satisfied: six in c:\\users\\pc\\.vscode\\anaconda\\lib\\site-packages (from asttokens->stack-data->ipython) (1.16.0)\n"
     ]
    }
   ],
   "source": [
    "!pip install folium\n",
    "!pip install ipython\n"
   ]
  },
  {
   "cell_type": "code",
   "execution_count": 3,
   "id": "1d5e1fc8-28d5-4607-86d8-2134284d4333",
   "metadata": {},
   "outputs": [],
   "source": [
    "import pandas as pd\n",
    "\n",
    "\n",
    "zomato_df = pd.read_csv(r\"C:\\Users\\pc\\Downloads\\zomato_data.csv\")\n",
    "coords_df = pd.read_csv(r\"C:\\Users\\pc\\Downloads\\Geographical_Coordinates.csv\") \n",
    "\n",
    "merged_df = pd.merge(\n",
    "    zomato_df,\n",
    "    coords_df,\n",
    "    left_on='listed_incity',\n",
    "    right_on='listed_incity',\n",
    "    how='left'\n",
    ")\n"
   ]
  },
  {
   "cell_type": "code",
   "execution_count": 4,
   "id": "7d1d23b2-156f-439c-b098-a187b5b927a2",
   "metadata": {},
   "outputs": [],
   "source": [
    "import folium\n",
    "from folium.plugins import MarkerCluster\n",
    "from IPython.display import IFrame\n"
   ]
  },
  {
   "cell_type": "code",
   "execution_count": 5,
   "id": "b4fef0b0-5296-4d96-b152-e0e3175b8a93",
   "metadata": {},
   "outputs": [],
   "source": [
    "\n",
    "m = folium.Map(location=[12.9716, 77.5946], zoom_start=12)\n"
   ]
  },
  {
   "cell_type": "code",
   "execution_count": 6,
   "id": "a3890cd9-afc1-4e43-93ba-309b85599bfa",
   "metadata": {},
   "outputs": [],
   "source": [
    "marker_cluster = MarkerCluster().add_to(m)\n"
   ]
  },
  {
   "cell_type": "code",
   "execution_count": 7,
   "id": "d5279ca5-20b4-4d80-ae54-1ab45d393161",
   "metadata": {},
   "outputs": [],
   "source": [
    "for _, row in merged_df.iterrows():\n",
    "    if pd.notnull(row['Latitude']) and pd.notnull(row['Longitude']):\n",
    "        folium.Marker(\n",
    "            location=[row['Latitude'], row['Longitude']],\n",
    "            popup=(\n",
    "                f\"<b>City:</b> {row['listed_incity']}<br>\"\n",
    "                f\"<b>Rating:</b> {row['rate']}<br>\"\n",
    "                f\"<b>Cost for Two:</b> ₹{row['approx_costfor_two_people']}\"\n",
    "            ),\n",
    "            icon=folium.Icon(color='blue')\n",
    "        ).add_to(marker_cluster)\n"
   ]
  },
  {
   "cell_type": "code",
   "execution_count": 2,
   "id": "81d84b4d-ad10-4eb6-a9af-05a06112d45a",
   "metadata": {},
   "outputs": [
    {
     "ename": "NameError",
     "evalue": "name 'm' is not defined",
     "output_type": "error",
     "traceback": [
      "\u001b[1;31m---------------------------------------------------------------------------\u001b[0m",
      "\u001b[1;31mNameError\u001b[0m                                 Traceback (most recent call last)",
      "Cell \u001b[1;32mIn[2], line 1\u001b[0m\n\u001b[1;32m----> 1\u001b[0m m\u001b[38;5;241m.\u001b[39msave(\u001b[38;5;124m\"\u001b[39m\u001b[38;5;124mrestaurant_density.html\u001b[39m\u001b[38;5;124m\"\u001b[39m)\n",
      "\u001b[1;31mNameError\u001b[0m: name 'm' is not defined"
     ]
    }
   ],
   "source": [
    "m.save(\"restaurant_density.html\")\n"
   ]
  },
  {
   "cell_type": "code",
   "execution_count": null,
   "id": "ec0a928f-08cc-45fd-82b1-70beb314c2de",
   "metadata": {},
   "outputs": [],
   "source": [
    "\n",
    "IFrame(\"restaurant_density.html\", width=800, height=500)\n"
   ]
  },
  {
   "cell_type": "code",
   "execution_count": 2,
   "id": "3e0f3de8-734b-4a23-b611-c452cf705b86",
   "metadata": {},
   "outputs": [
    {
     "data": {
      "text/html": [
       "\n",
       "        <iframe\n",
       "            width=\"800\"\n",
       "            height=\"500\"\n",
       "            src=\"restaurant_density.html\"\n",
       "            frameborder=\"0\"\n",
       "            allowfullscreen\n",
       "            \n",
       "        ></iframe>\n",
       "        "
      ],
      "text/plain": [
       "<IPython.lib.display.IFrame at 0x20e3add5cd0>"
      ]
     },
     "execution_count": 2,
     "metadata": {},
     "output_type": "execute_result"
    }
   ],
   "source": [
    "import pandas as pd\n",
    "import folium\n",
    "from folium.plugins import MarkerCluster\n",
    "\n",
    "zomato_df = pd.read_csv(r\"C:\\Users\\pc\\Downloads\\zomato_data.csv\")\n",
    "coords_df = pd.read_csv(r\"C:\\Users\\pc\\Downloads\\Geographical_Coordinates.csv\")\n",
    "\n",
    "merged_df = pd.merge(\n",
    "    zomato_df,\n",
    "    coords_df,\n",
    "    left_on='listed_incity',\n",
    "    right_on='listed_incity',  \n",
    "    how='inner'\n",
    ")\n",
    "\n",
    "m = folium.Map(location=[12.9716, 77.5946], zoom_start=12)\n",
    "\n",
    "marker_cluster = MarkerCluster().add_to(m)\n",
    "\n",
    "for _, row in merged_df.iterrows():\n",
    "    if pd.notnull(row['Latitude']) and pd.notnull(row['Longitude']):\n",
    "        popup_text = f\"\"\"\n",
    "        City: {row['listed_incity']}<br>\n",
    "        Rating: {row['rate']}<br>\n",
    "        Cost for Two: {row['approx_costfor_two_people']}<br>\n",
    "        Cuisines: {row['cuisines']}\n",
    "        \"\"\"\n",
    "        folium.Marker(\n",
    "            location=[row['Latitude'], row['Longitude']],\n",
    "            popup=popup_text\n",
    "        ).add_to(marker_cluster)\n",
    "\n",
    "m.save(\"restaurant_density.html\")\n",
    "\n",
    "from IPython.display import IFrame\n",
    "IFrame(\"restaurant_density.html\", width=800, height=500)\n"
   ]
  },
  {
   "cell_type": "code",
   "execution_count": null,
   "id": "07fa1843-d4f0-4468-a21a-0fb6c8cb0e44",
   "metadata": {},
   "outputs": [],
   "source": []
  }
 ],
 "metadata": {
  "kernelspec": {
   "display_name": "Python 3 (ipykernel)",
   "language": "python",
   "name": "python3"
  },
  "language_info": {
   "codemirror_mode": {
    "name": "ipython",
    "version": 3
   },
   "file_extension": ".py",
   "mimetype": "text/x-python",
   "name": "python",
   "nbconvert_exporter": "python",
   "pygments_lexer": "ipython3",
   "version": "3.12.7"
  }
 },
 "nbformat": 4,
 "nbformat_minor": 5
}
